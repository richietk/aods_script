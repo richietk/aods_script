{
 "cells": [
  {
   "cell_type": "markdown",
   "metadata": {},
   "source": [
    "Below see our attempt to replicate the paper's algorithm word-for-word. Afterwards, we will also try to point out a potential mistake the paper made and fix that using another version of the code."
   ]
  },
  {
   "cell_type": "code",
   "execution_count": 12,
   "metadata": {},
   "outputs": [
    {
     "data": {
      "image/png": "[encoded data removed]",
      "text/plain": [
       "<Figure size 432x288 with 1 Axes>"
      ]
     },
     "metadata": {
      "needs_background": "light"
     },
     "output_type": "display_data"
    },
    {
     "name": "stdout",
     "output_type": "stream",
     "text": [
      "using cluster count 12\n",
      "Train RMSE: 1.1091\n",
      "Test  RMSE: 1.1591\n",
      "\n",
      "using cluster count 13\n",
      "Train RMSE: 1.1171\n",
      "Test  RMSE: 1.1687\n",
      "\n",
      "using cluster count 14\n",
      "Train RMSE: 1.1143\n",
      "Test  RMSE: 1.1677\n",
      "\n",
      "using cluster count 15\n",
      "Train RMSE: 1.1233\n",
      "Test  RMSE: 1.1729\n",
      "\n",
      "using cluster count 16\n",
      "Train RMSE: 1.1057\n",
      "Test  RMSE: 1.1543\n",
      "\n",
      "using cluster count 17\n",
      "Train RMSE: 1.1027\n",
      "Test  RMSE: 1.1516\n",
      "\n",
      "using cluster count 18\n",
      "Train RMSE: 1.1069\n",
      "Test  RMSE: 1.1598\n",
      "\n",
      "using cluster count 19\n",
      "Train RMSE: 1.1042\n",
      "Test  RMSE: 1.1588\n",
      "\n",
      "using cluster count 20\n",
      "Train RMSE: 1.1033\n",
      "Test  RMSE: 1.1566\n",
      "\n",
      "using cluster count 21\n"
     ]
    },
    {
     "ename": "KeyboardInterrupt",
     "evalue": "",
     "output_type": "error",
     "traceback": [
      "\u001b[0;31m---------------------------------------------------------------------------\u001b[0m",
      "\u001b[0;31mKeyboardInterrupt\u001b[0m                         Traceback (most recent call last)",
      "\u001b[0;32m<ipython-input-12-17cdf70158c9>\u001b[0m in \u001b[0;36m<module>\u001b[0;34m\u001b[0m\n\u001b[1;32m    235\u001b[0m \u001b[0;32mfor\u001b[0m \u001b[0mi\u001b[0m \u001b[0;32min\u001b[0m \u001b[0mrange\u001b[0m\u001b[0;34m(\u001b[0m\u001b[0;36m10\u001b[0m\u001b[0;34m,\u001b[0m \u001b[0;36m20\u001b[0m\u001b[0;34m)\u001b[0m\u001b[0;34m:\u001b[0m\u001b[0;34m\u001b[0m\u001b[0;34m\u001b[0m\u001b[0m\n\u001b[1;32m    236\u001b[0m     \u001b[0mprint\u001b[0m\u001b[0;34m(\u001b[0m\u001b[0;34m\"using cluster count\"\u001b[0m\u001b[0;34m,\u001b[0m \u001b[0mi\u001b[0m\u001b[0;34m+\u001b[0m\u001b[0;36m2\u001b[0m\u001b[0;34m)\u001b[0m\u001b[0;34m\u001b[0m\u001b[0;34m\u001b[0m\u001b[0m\n\u001b[0;32m--> 237\u001b[0;31m     \u001b[0mtrain_and_calculate\u001b[0m\u001b[0;34m(\u001b[0m\u001b[0mi\u001b[0m\u001b[0;34m+\u001b[0m\u001b[0;36m2\u001b[0m\u001b[0;34m)\u001b[0m\u001b[0;34m\u001b[0m\u001b[0;34m\u001b[0m\u001b[0m\n\u001b[0m\u001b[1;32m    238\u001b[0m     \u001b[0mprint\u001b[0m\u001b[0;34m(\u001b[0m\u001b[0;34m)\u001b[0m\u001b[0;34m\u001b[0m\u001b[0;34m\u001b[0m\u001b[0m\n",
      "\u001b[0;32m<ipython-input-12-17cdf70158c9>\u001b[0m in \u001b[0;36mtrain_and_calculate\u001b[0;34m(best_k)\u001b[0m\n\u001b[1;32m    219\u001b[0m         \u001b[0mactual\u001b[0m \u001b[0;34m=\u001b[0m \u001b[0mrow\u001b[0m\u001b[0;34m.\u001b[0m\u001b[0mrating\u001b[0m\u001b[0;34m\u001b[0m\u001b[0;34m\u001b[0m\u001b[0m\n\u001b[1;32m    220\u001b[0m \u001b[0;34m\u001b[0m\u001b[0m\n\u001b[0;32m--> 221\u001b[0;31m         \u001b[0mpred\u001b[0m \u001b[0;34m=\u001b[0m \u001b[0mpredict_rating\u001b[0m\u001b[0;34m(\u001b[0m\u001b[0muser_id\u001b[0m\u001b[0;34m,\u001b[0m \u001b[0mmovie_id\u001b[0m\u001b[0;34m,\u001b[0m \u001b[0mtopN\u001b[0m\u001b[0;34m=\u001b[0m\u001b[0;36m5\u001b[0m\u001b[0;34m)\u001b[0m\u001b[0;34m\u001b[0m\u001b[0;34m\u001b[0m\u001b[0m\n\u001b[0m\u001b[1;32m    222\u001b[0m         \u001b[0mtrain_preds\u001b[0m\u001b[0;34m.\u001b[0m\u001b[0mappend\u001b[0m\u001b[0;34m(\u001b[0m\u001b[0mpred\u001b[0m\u001b[0;34m)\u001b[0m\u001b[0;34m\u001b[0m\u001b[0;34m\u001b[0m\u001b[0m\n\u001b[1;32m    223\u001b[0m         \u001b[0mtrain_truths\u001b[0m\u001b[0;34m.\u001b[0m\u001b[0mappend\u001b[0m\u001b[0;34m(\u001b[0m\u001b[0mactual\u001b[0m\u001b[0;34m)\u001b[0m\u001b[0;34m\u001b[0m\u001b[0;34m\u001b[0m\u001b[0m\n",
      "\u001b[0;32m<ipython-input-12-17cdf70158c9>\u001b[0m in \u001b[0;36mpredict_rating\u001b[0;34m(user_id, movie_id, topN, default_rating)\u001b[0m\n\u001b[1;32m    179\u001b[0m             \u001b[0mnbr_rating\u001b[0m\u001b[0;34m=\u001b[0m\u001b[0muser_cluster_matrix\u001b[0m\u001b[0;34m[\u001b[0m\u001b[0mnbr_idx\u001b[0m\u001b[0;34m,\u001b[0m \u001b[0mc_label\u001b[0m\u001b[0;34m]\u001b[0m\u001b[0;34m\u001b[0m\u001b[0;34m\u001b[0m\u001b[0m\n\u001b[1;32m    180\u001b[0m \u001b[0;34m\u001b[0m\u001b[0m\n\u001b[0;32m--> 181\u001b[0;31m             \u001b[0;32mif\u001b[0m \u001b[0mnbr_rating\u001b[0m\u001b[0;34m>\u001b[0m\u001b[0;36m0\u001b[0m\u001b[0;34m:\u001b[0m\u001b[0;34m\u001b[0m\u001b[0;34m\u001b[0m\u001b[0m\n\u001b[0m\u001b[1;32m    182\u001b[0m                 \u001b[0msim\u001b[0m\u001b[0;34m=\u001b[0m\u001b[0muser_sims\u001b[0m\u001b[0;34m[\u001b[0m\u001b[0mnbr_idx\u001b[0m\u001b[0;34m]\u001b[0m\u001b[0;34m\u001b[0m\u001b[0;34m\u001b[0m\u001b[0m\n\u001b[1;32m    183\u001b[0m                 \u001b[0mweighted_sum\u001b[0m\u001b[0;34m+=\u001b[0m\u001b[0msim\u001b[0m\u001b[0;34m*\u001b[0m\u001b[0mnbr_rating\u001b[0m\u001b[0;34m\u001b[0m\u001b[0;34m\u001b[0m\u001b[0m\n",
      "\u001b[0;31mKeyboardInterrupt\u001b[0m: "
     ]
    }
   ],
   "source": [
    "import pandas as pd\n",
    "import numpy as np\n",
    "from sklearn.model_selection import train_test_split\n",
    "from sklearn.cluster import KMeans\n",
    "from math import sqrt\n",
    "import matplotlib.pyplot as plt\n",
    "\n",
    "# 1. read the data\n",
    "# u.data -> userId, movieId, rating, timestamp\n",
    "# u.item -> movieId, title, releaseDate, videoReleaseDate, imdbURL, genre1..genre19 (binary)\n",
    "\n",
    "# read ratings\n",
    "rating_cols=[\"userId\", \"movieId\", \"rating\", \"timestamp\"]\n",
    "ratings=pd.read_csv(\n",
    "    \"data/u.data\",\n",
    "    sep=\"\\t\",\n",
    "    header=None,\n",
    "    names=rating_cols,\n",
    "    encoding=\"latin-1\"\n",
    ")\n",
    "\n",
    "# read movies\n",
    "item_cols=[\n",
    "    \"movieId\", \"title\", \"releaseDate\", \"videoReleaseDate\", \"imdbURL\",\n",
    "    \"unknown\", \"Action\", \"Adventure\", \"Animation\", \"Children\",\n",
    "    \"Comedy\", \"Crime\", \"Documentary\", \"Drama\", \"Fantasy\",\n",
    "    \"FilmNoir\", \"Horror\", \"Musical\", \"Mystery\", \"Romance\",\n",
    "    \"SciFi\", \"Thriller\", \"War\", \"Western\"\n",
    "]\n",
    "movies=pd.read_csv(\n",
    "    \"data/u.item\",\n",
    "    sep=\"|\",\n",
    "    header=None,\n",
    "    names=item_cols,\n",
    "    encoding=\"latin-1\"\n",
    ")\n",
    "\n",
    "# 2. split data into train/test\n",
    "train_df, test_df=train_test_split(ratings, test_size=0.2, random_state=42)\n",
    "train_df=train_df.reset_index(drop=True)\n",
    "test_df=test_df.reset_index(drop=True)\n",
    "\n",
    "# 3. build user x movie utility matrix from train\n",
    "all_user_ids=sorted(train_df[\"userId\"].unique())\n",
    "all_movie_ids=sorted(train_df[\"movieId\"].unique())\n",
    "\n",
    "user_to_index={u:i for i, u in enumerate(all_user_ids)}\n",
    "movie_to_index={m:i for i, m in enumerate(all_movie_ids)}\n",
    "\n",
    "# init utility matrix\n",
    "utility_matrix=np.zeros((len(all_user_ids), len(all_movie_ids)), dtype=np.float32)\n",
    "\n",
    "# fill known ratings\n",
    "for row in train_df.itertuples():\n",
    "    u_idx=user_to_index[row.userId]\n",
    "    m_idx=movie_to_index[row.movieId]\n",
    "    utility_matrix[u_idx, m_idx]=row.rating\n",
    "\n",
    "# 4. prepare features for k-means (19 genre columns)\n",
    "# subset of movies in training set\n",
    "movies_train=movies[movies[\"movieId\"].isin(all_movie_ids)].copy()\n",
    "\n",
    "# sort by movieId\n",
    "movies_train.sort_values(\"movieId\", inplace=True)\n",
    "movies_train.reset_index(drop=True, inplace=True)\n",
    "\n",
    "# genre columns\n",
    "genre_cols=[\n",
    "    \"unknown\", \"Action\", \"Adventure\", \"Animation\", \"Children\",\n",
    "    \"Comedy\", \"Crime\", \"Documentary\", \"Drama\", \"Fantasy\",\n",
    "    \"FilmNoir\", \"Horror\", \"Musical\", \"Mystery\", \"Romance\",\n",
    "    \"SciFi\", \"Thriller\", \"War\", \"Western\"\n",
    "]\n",
    "genre_features=movies_train[genre_cols].values # shape: (#movies_in_train, 19)\n",
    "\n",
    "# 5. choose number of clusters via wcss (optional \"elbow\")\n",
    "wcss=[]\n",
    "K_MAX=10\n",
    "for k in range(1, K_MAX+1):\n",
    "    km_temp=KMeans(n_clusters=k, init='k-means++', random_state=42)\n",
    "    km_temp.fit(genre_features)\n",
    "    wcss.append(km_temp.inertia_)\n",
    "\n",
    "plt.figure()\n",
    "plt.plot(range(1, K_MAX+1), wcss, marker='o')\n",
    "plt.title('K-Means Elbow on Movie Genres')\n",
    "plt.xlabel('k (#clusters)')\n",
    "plt.ylabel('WCSS')\n",
    "plt.show()\n",
    "\n",
    "# pick a cluster count\n",
    "\n",
    "def train_and_calculate(best_k):\n",
    "    # 6. cluster the movies using k-means\n",
    "    kmeans=KMeans(n_clusters=best_k, init='k-means++', random_state=42)\n",
    "    cluster_labels=kmeans.fit_predict(genre_features)\n",
    "\n",
    "    # map movieId -> cluster\n",
    "    movie_cluster_map=pd.DataFrame({\n",
    "        \"movieId\":movies_train[\"movieId\"],\n",
    "        \"cluster\":cluster_labels\n",
    "    })\n",
    "\n",
    "    # 7. build user x cluster matrix = avg rating per user per cluster\n",
    "    num_users=len(all_user_ids)\n",
    "    user_cluster_matrix=np.zeros((num_users, best_k), dtype=np.float32)\n",
    "    cluster_counts=np.zeros((num_users, best_k), dtype=np.float32)\n",
    "\n",
    "    # accumulate sums of ratings\n",
    "    for row in train_df.itertuples():\n",
    "        u_id=row.userId\n",
    "        m_id=row.movieId\n",
    "        rating=row.rating\n",
    "\n",
    "        # skip if not in training mapping\n",
    "        if m_id not in movie_to_index:\n",
    "            continue\n",
    "\n",
    "        u_idx=user_to_index[u_id]\n",
    "\n",
    "        # find movie's cluster\n",
    "        cluster_id_arr=movie_cluster_map.loc[movie_cluster_map[\"movieId\"]==m_id, \"cluster\"].values\n",
    "        if len(cluster_id_arr)==0:\n",
    "            continue\n",
    "        cluster_id=cluster_id_arr[0]\n",
    "\n",
    "        user_cluster_matrix[u_idx, cluster_id]+=rating\n",
    "        cluster_counts[u_idx, cluster_id]+=1\n",
    "\n",
    "    # convert sums to averages\n",
    "    for u_idx in range(num_users):\n",
    "        for c_idx in range(best_k):\n",
    "            if cluster_counts[u_idx, c_idx]>0:\n",
    "                user_cluster_matrix[u_idx, c_idx]/=cluster_counts[u_idx, c_idx]\n",
    "\n",
    "    # subtract user's mean rating if they rated > 1 cluster\n",
    "    user_cluster_matrix_normalized = np.copy(user_cluster_matrix)\n",
    "    for u_idx in range(num_users):\n",
    "        rated_cluster_count = np.sum(user_cluster_matrix[u_idx] > 0)\n",
    "        if rated_cluster_count > 1:\n",
    "            user_mean = np.nanmean(user_cluster_matrix[u_idx])\n",
    "            for c_idx in range(best_k):\n",
    "                if not np.isnan(user_cluster_matrix[u_idx, c_idx]):\n",
    "                    user_cluster_matrix_normalized[u_idx, c_idx] -= user_mean\n",
    "\n",
    "\n",
    "    # 8. user-user similarity via pearson correlation on user_cluster_matrix\n",
    "    corr=np.corrcoef(user_cluster_matrix)\n",
    "    corr=np.nan_to_num(corr) # replace NaNs with 0\n",
    "\n",
    "    # 9. prediction (knn)\n",
    "    def predict_rating(user_id, movie_id, topN=5, default_rating=3.0):\n",
    "        # predict rating for (user, movie)\n",
    "        if user_id not in user_to_index or movie_id not in movie_to_index:\n",
    "            return default_rating\n",
    "\n",
    "        u_idx=user_to_index[user_id]\n",
    "\n",
    "        # find cluster for movie\n",
    "        cluster_id_arr=movie_cluster_map.loc[movie_cluster_map[\"movieId\"]==movie_id, \"cluster\"].values\n",
    "        if len(cluster_id_arr)==0:\n",
    "            return default_rating\n",
    "        c_label=cluster_id_arr[0]\n",
    "\n",
    "        # get correlation with other users\n",
    "        user_sims=corr[u_idx, :]\n",
    "        # sort by similarity\n",
    "        neighbors_sorted=np.argsort(-user_sims)\n",
    "\n",
    "        sim_sum=0.0\n",
    "        weighted_sum=0.0\n",
    "        found_neighbors=0\n",
    "\n",
    "        for nbr_idx in neighbors_sorted:\n",
    "            if nbr_idx==u_idx:\n",
    "                continue\n",
    "\n",
    "            # neighbor's rating for cluster\n",
    "            nbr_rating=user_cluster_matrix[nbr_idx, c_label]\n",
    "\n",
    "            if nbr_rating>0:\n",
    "                sim=user_sims[nbr_idx]\n",
    "                weighted_sum+=sim*nbr_rating\n",
    "                sim_sum+=abs(sim)\n",
    "                found_neighbors+=1\n",
    "\n",
    "                if found_neighbors>=topN:\n",
    "                    break\n",
    "\n",
    "        if sim_sum==0:\n",
    "            return default_rating\n",
    "        return weighted_sum/sim_sum\n",
    "\n",
    "    # 10. evaluate on test set (rmse)\n",
    "    pred_ratings=[]\n",
    "    true_ratings=[]\n",
    "\n",
    "    for row in test_df.itertuples():\n",
    "        user_id=row.userId\n",
    "        movie_id=row.movieId\n",
    "        actual=row.rating\n",
    "\n",
    "        pred=predict_rating(user_id, movie_id, topN=5)\n",
    "        pred_ratings.append(pred)\n",
    "        true_ratings.append(actual)\n",
    "\n",
    "    pred_ratings=np.array(pred_ratings)\n",
    "    true_ratings=np.array(true_ratings)\n",
    "\n",
    "    mse=np.mean((pred_ratings-true_ratings)**2)\n",
    "    rmse=sqrt(mse)\n",
    "    # evaluate on training set (rmse)\n",
    "    train_preds = []\n",
    "    train_truths = []\n",
    "\n",
    "    for row in train_df.itertuples():\n",
    "        user_id = row.userId\n",
    "        movie_id = row.movieId\n",
    "        actual = row.rating\n",
    "\n",
    "        pred = predict_rating(user_id, movie_id, topN=5)\n",
    "        train_preds.append(pred)\n",
    "        train_truths.append(actual)\n",
    "\n",
    "    train_preds = np.array(train_preds)\n",
    "    train_truths = np.array(train_truths)\n",
    "    train_mse = np.mean((train_preds - train_truths) ** 2)\n",
    "    train_rmse = sqrt(train_mse)\n",
    "\n",
    "    print(f\"Train RMSE: {train_rmse:.4f}\")\n",
    "    print(f\"Test  RMSE: {rmse:.4f}\")\n",
    "\n",
    "\n",
    "\n",
    "for i in range(10, 20):\n",
    "    print(\"using cluster count\", i+2)\n",
    "    train_and_calculate(i+2)\n",
    "    print()"
   ]
  },
  {
   "cell_type": "markdown",
   "metadata": {},
   "source": [
    "Our RMSE values for different cluster numbers:\n",
    "\n",
    "using cluster count 2 \\\n",
    "Final RMSE: 1.1468 \\\n",
    "using cluster count 3 \\\n",
    "Final RMSE: 1.1494 \\\n",
    "using cluster count 4 \\\n",
    "Final RMSE: 1.1589 \\\n",
    "using cluster count 5 \\\n",
    "Final RMSE: 1.1560 \\\n",
    "using cluster count 6 \\\n",
    "Final RMSE: 1.1574 \\\n",
    "using cluster count 7 \\\n",
    "Final RMSE: 1.1651 \\\n",
    "using cluster count 8 \\\n",
    "Final RMSE: 1.1489 \\\n",
    "using cluster count 9 \\\n",
    "Final RMSE: 1.1553 \\\n",
    "using cluster count 10 \\\n",
    "Final RMSE: 1.1568 \\\n",
    "using cluster count 11 \\\n",
    "Final RMSE: 1.1612 \\\n",
    "using cluster count 12 \\\n",
    "Final RMSE: 1.1591 \\\n",
    "using cluster count 13 \\\n",
    "Final RMSE: 1.1687 \\\n",
    "using cluster count 14 \\\n",
    "Final RMSE: 1.1677 \\\n",
    "using cluster count 15 \\\n",
    "Final RMSE: 1.1729 \\\n",
    "using cluster count 16 \\\n",
    "Final RMSE: 1.1543 \\\n",
    "using cluster count 17 \\\n",
    "Final RMSE: 1.1516 \\\n",
    "using cluster count 18 \\\n",
    "Final RMSE: 1.1598 \\\n",
    "using cluster count 19 \\\n",
    "Final RMSE: 1.1588 \\\n",
    "using cluster count 20 \\\n",
    "Final RMSE: 1.1566"
   ]
  },
  {
   "cell_type": "markdown",
   "metadata": {},
   "source": [
    "We trained a movie recommender using K-Means (clustered by genre) and a KNN-like approach for user similarity to replicate the paper \"Movie Recommender System Using K-Means Clustering AND K-Nearest Neighbor\". Our RMSE ranged from about 1.14 to 1.17 for different cluster counts, slightly higher than the 1.08 the paper reported. This discrepancy likely arises from undocumented parameters, possible extra data cleaning, or the paper’s apparent test-set-driven hyperparameter selection, which risks overfitting. While the authors mention WCSS for choosing the cluster count, their final results (and their presentation thereof) suggest they inspected RMSE on the test set for every cluster value and picked the lowest, effectively merging the test set into the training process and biasing the 1.08 figure. In contrast, our runs did not show a strictly decreasing RMSE with fewer clusters. Cluster counts of 2, 3, and 8 all performed similarly (around 1.14–1.15).\n",
    "\n",
    "As for using the aforementioned test set to select the number of clusters, the authors appear to select the \"best\" number of clusters by directly examining which value yields the lowest RMSE on their test set. This is problematic because the test set is intended to be an unbiased final evaluation of how well the model generalizes to unseen data. Once the test set is used to select or tune hyperparameters (such as the number of clusters), it effectively becomes part of the training process. As a result, the model can overfit to the test data and its reported performance may not reflect true generalization to unseen users or movies.\n",
    "\n",
    "Below is an implementation that corrects this overfitting risk by reserving the test set for final evaluation only."
   ]
  },
  {
   "cell_type": "code",
   "execution_count": 9,
   "metadata": {},
   "outputs": [
    {
     "data": {
      "image/png": "[encoded data removed]",
      "text/plain": [
       "<Figure size 432x288 with 1 Axes>"
      ]
     },
     "metadata": {
      "needs_background": "light"
     },
     "output_type": "display_data"
    },
    {
     "name": "stderr",
     "output_type": "stream",
     "text": [
      "/opt/conda/lib/python3.8/site-packages/numpy/lib/function_base.py:2559: RuntimeWarning: invalid value encountered in true_divide\n",
      "  c /= stddev[:, None]\n",
      "/opt/conda/lib/python3.8/site-packages/numpy/lib/function_base.py:2560: RuntimeWarning: invalid value encountered in true_divide\n",
      "  c /= stddev[None, :]\n"
     ]
    },
    {
     "name": "stdout",
     "output_type": "stream",
     "text": [
      "Train RMSE: 1.1686\n",
      "Validation/Test RMSE: 1.1673\n",
      "RMSE for k=2: 1.1673\n"
     ]
    },
    {
     "name": "stderr",
     "output_type": "stream",
     "text": [
      "/opt/conda/lib/python3.8/site-packages/numpy/lib/function_base.py:2559: RuntimeWarning: invalid value encountered in true_divide\n",
      "  c /= stddev[:, None]\n",
      "/opt/conda/lib/python3.8/site-packages/numpy/lib/function_base.py:2560: RuntimeWarning: invalid value encountered in true_divide\n",
      "  c /= stddev[None, :]\n"
     ]
    },
    {
     "name": "stdout",
     "output_type": "stream",
     "text": [
      "Train RMSE: 1.2162\n",
      "Validation/Test RMSE: 1.2213\n",
      "RMSE for k=3: 1.2213\n"
     ]
    },
    {
     "name": "stderr",
     "output_type": "stream",
     "text": [
      "/opt/conda/lib/python3.8/site-packages/numpy/lib/function_base.py:2559: RuntimeWarning: invalid value encountered in true_divide\n",
      "  c /= stddev[:, None]\n",
      "/opt/conda/lib/python3.8/site-packages/numpy/lib/function_base.py:2560: RuntimeWarning: invalid value encountered in true_divide\n",
      "  c /= stddev[None, :]\n"
     ]
    },
    {
     "name": "stdout",
     "output_type": "stream",
     "text": [
      "Train RMSE: 1.2250\n",
      "Validation/Test RMSE: 1.2264\n",
      "RMSE for k=4: 1.2264\n"
     ]
    },
    {
     "name": "stderr",
     "output_type": "stream",
     "text": [
      "/opt/conda/lib/python3.8/site-packages/numpy/lib/function_base.py:2559: RuntimeWarning: invalid value encountered in true_divide\n",
      "  c /= stddev[:, None]\n",
      "/opt/conda/lib/python3.8/site-packages/numpy/lib/function_base.py:2560: RuntimeWarning: invalid value encountered in true_divide\n",
      "  c /= stddev[None, :]\n"
     ]
    },
    {
     "name": "stdout",
     "output_type": "stream",
     "text": [
      "Train RMSE: 1.2516\n",
      "Validation/Test RMSE: 1.2552\n",
      "RMSE for k=5: 1.2552\n"
     ]
    },
    {
     "name": "stderr",
     "output_type": "stream",
     "text": [
      "/opt/conda/lib/python3.8/site-packages/numpy/lib/function_base.py:2559: RuntimeWarning: invalid value encountered in true_divide\n",
      "  c /= stddev[:, None]\n",
      "/opt/conda/lib/python3.8/site-packages/numpy/lib/function_base.py:2560: RuntimeWarning: invalid value encountered in true_divide\n",
      "  c /= stddev[None, :]\n"
     ]
    },
    {
     "name": "stdout",
     "output_type": "stream",
     "text": [
      "Train RMSE: 1.2563\n",
      "Validation/Test RMSE: 1.2573\n",
      "RMSE for k=6: 1.2573\n"
     ]
    },
    {
     "name": "stderr",
     "output_type": "stream",
     "text": [
      "/opt/conda/lib/python3.8/site-packages/numpy/lib/function_base.py:2559: RuntimeWarning: invalid value encountered in true_divide\n",
      "  c /= stddev[:, None]\n",
      "/opt/conda/lib/python3.8/site-packages/numpy/lib/function_base.py:2560: RuntimeWarning: invalid value encountered in true_divide\n",
      "  c /= stddev[None, :]\n"
     ]
    },
    {
     "name": "stdout",
     "output_type": "stream",
     "text": [
      "Train RMSE: 1.2480\n",
      "Validation/Test RMSE: 1.2489\n",
      "RMSE for k=7: 1.2489\n"
     ]
    },
    {
     "name": "stderr",
     "output_type": "stream",
     "text": [
      "/opt/conda/lib/python3.8/site-packages/numpy/lib/function_base.py:2559: RuntimeWarning: invalid value encountered in true_divide\n",
      "  c /= stddev[:, None]\n",
      "/opt/conda/lib/python3.8/site-packages/numpy/lib/function_base.py:2560: RuntimeWarning: invalid value encountered in true_divide\n",
      "  c /= stddev[None, :]\n"
     ]
    },
    {
     "name": "stdout",
     "output_type": "stream",
     "text": [
      "Train RMSE: 1.2317\n",
      "Validation/Test RMSE: 1.2419\n",
      "RMSE for k=8: 1.2419\n"
     ]
    },
    {
     "name": "stderr",
     "output_type": "stream",
     "text": [
      "/opt/conda/lib/python3.8/site-packages/numpy/lib/function_base.py:2559: RuntimeWarning: invalid value encountered in true_divide\n",
      "  c /= stddev[:, None]\n",
      "/opt/conda/lib/python3.8/site-packages/numpy/lib/function_base.py:2560: RuntimeWarning: invalid value encountered in true_divide\n",
      "  c /= stddev[None, :]\n"
     ]
    },
    {
     "name": "stdout",
     "output_type": "stream",
     "text": [
      "Train RMSE: 1.2251\n",
      "Validation/Test RMSE: 1.2359\n",
      "RMSE for k=9: 1.2359\n"
     ]
    },
    {
     "name": "stderr",
     "output_type": "stream",
     "text": [
      "/opt/conda/lib/python3.8/site-packages/numpy/lib/function_base.py:2559: RuntimeWarning: invalid value encountered in true_divide\n",
      "  c /= stddev[:, None]\n",
      "/opt/conda/lib/python3.8/site-packages/numpy/lib/function_base.py:2560: RuntimeWarning: invalid value encountered in true_divide\n",
      "  c /= stddev[None, :]\n"
     ]
    },
    {
     "name": "stdout",
     "output_type": "stream",
     "text": [
      "Train RMSE: 1.2237\n",
      "Validation/Test RMSE: 1.2248\n",
      "RMSE for k=10: 1.2248\n"
     ]
    },
    {
     "name": "stderr",
     "output_type": "stream",
     "text": [
      "/opt/conda/lib/python3.8/site-packages/numpy/lib/function_base.py:2559: RuntimeWarning: invalid value encountered in true_divide\n",
      "  c /= stddev[:, None]\n",
      "/opt/conda/lib/python3.8/site-packages/numpy/lib/function_base.py:2560: RuntimeWarning: invalid value encountered in true_divide\n",
      "  c /= stddev[None, :]\n"
     ]
    },
    {
     "name": "stdout",
     "output_type": "stream",
     "text": [
      "Train RMSE: 1.2145\n",
      "Validation/Test RMSE: 1.2230\n",
      "RMSE for k=11: 1.2230\n"
     ]
    },
    {
     "name": "stderr",
     "output_type": "stream",
     "text": [
      "/opt/conda/lib/python3.8/site-packages/numpy/lib/function_base.py:2559: RuntimeWarning: invalid value encountered in true_divide\n",
      "  c /= stddev[:, None]\n",
      "/opt/conda/lib/python3.8/site-packages/numpy/lib/function_base.py:2560: RuntimeWarning: invalid value encountered in true_divide\n",
      "  c /= stddev[None, :]\n"
     ]
    },
    {
     "name": "stdout",
     "output_type": "stream",
     "text": [
      "Train RMSE: 1.2079\n",
      "Validation/Test RMSE: 1.2159\n",
      "RMSE for k=12: 1.2159\n"
     ]
    },
    {
     "name": "stderr",
     "output_type": "stream",
     "text": [
      "/opt/conda/lib/python3.8/site-packages/numpy/lib/function_base.py:2559: RuntimeWarning: invalid value encountered in true_divide\n",
      "  c /= stddev[:, None]\n",
      "/opt/conda/lib/python3.8/site-packages/numpy/lib/function_base.py:2560: RuntimeWarning: invalid value encountered in true_divide\n",
      "  c /= stddev[None, :]\n"
     ]
    },
    {
     "name": "stdout",
     "output_type": "stream",
     "text": [
      "Train RMSE: 1.2101\n",
      "Validation/Test RMSE: 1.2176\n",
      "RMSE for k=13: 1.2176\n"
     ]
    },
    {
     "name": "stderr",
     "output_type": "stream",
     "text": [
      "/opt/conda/lib/python3.8/site-packages/numpy/lib/function_base.py:2559: RuntimeWarning: invalid value encountered in true_divide\n",
      "  c /= stddev[:, None]\n",
      "/opt/conda/lib/python3.8/site-packages/numpy/lib/function_base.py:2560: RuntimeWarning: invalid value encountered in true_divide\n",
      "  c /= stddev[None, :]\n"
     ]
    },
    {
     "name": "stdout",
     "output_type": "stream",
     "text": [
      "Train RMSE: 1.2100\n",
      "Validation/Test RMSE: 1.2165\n",
      "RMSE for k=14: 1.2165\n"
     ]
    },
    {
     "name": "stderr",
     "output_type": "stream",
     "text": [
      "/opt/conda/lib/python3.8/site-packages/numpy/lib/function_base.py:2559: RuntimeWarning: invalid value encountered in true_divide\n",
      "  c /= stddev[:, None]\n",
      "/opt/conda/lib/python3.8/site-packages/numpy/lib/function_base.py:2560: RuntimeWarning: invalid value encountered in true_divide\n",
      "  c /= stddev[None, :]\n"
     ]
    },
    {
     "name": "stdout",
     "output_type": "stream",
     "text": [
      "Train RMSE: 1.2076\n",
      "Validation/Test RMSE: 1.2115\n",
      "RMSE for k=15: 1.2115\n"
     ]
    },
    {
     "name": "stderr",
     "output_type": "stream",
     "text": [
      "/opt/conda/lib/python3.8/site-packages/numpy/lib/function_base.py:2559: RuntimeWarning: invalid value encountered in true_divide\n",
      "  c /= stddev[:, None]\n",
      "/opt/conda/lib/python3.8/site-packages/numpy/lib/function_base.py:2560: RuntimeWarning: invalid value encountered in true_divide\n",
      "  c /= stddev[None, :]\n"
     ]
    },
    {
     "name": "stdout",
     "output_type": "stream",
     "text": [
      "Train RMSE: 1.2098\n",
      "Validation/Test RMSE: 1.2125\n",
      "RMSE for k=16: 1.2125\n"
     ]
    },
    {
     "name": "stderr",
     "output_type": "stream",
     "text": [
      "/opt/conda/lib/python3.8/site-packages/numpy/lib/function_base.py:2559: RuntimeWarning: invalid value encountered in true_divide\n",
      "  c /= stddev[:, None]\n",
      "/opt/conda/lib/python3.8/site-packages/numpy/lib/function_base.py:2560: RuntimeWarning: invalid value encountered in true_divide\n",
      "  c /= stddev[None, :]\n"
     ]
    },
    {
     "name": "stdout",
     "output_type": "stream",
     "text": [
      "Train RMSE: 1.2027\n",
      "Validation/Test RMSE: 1.2072\n",
      "RMSE for k=17: 1.2072\n"
     ]
    },
    {
     "name": "stderr",
     "output_type": "stream",
     "text": [
      "/opt/conda/lib/python3.8/site-packages/numpy/lib/function_base.py:2559: RuntimeWarning: invalid value encountered in true_divide\n",
      "  c /= stddev[:, None]\n",
      "/opt/conda/lib/python3.8/site-packages/numpy/lib/function_base.py:2560: RuntimeWarning: invalid value encountered in true_divide\n",
      "  c /= stddev[None, :]\n"
     ]
    },
    {
     "name": "stdout",
     "output_type": "stream",
     "text": [
      "Train RMSE: 1.2037\n",
      "Validation/Test RMSE: 1.2029\n",
      "RMSE for k=18: 1.2029\n"
     ]
    },
    {
     "name": "stderr",
     "output_type": "stream",
     "text": [
      "/opt/conda/lib/python3.8/site-packages/numpy/lib/function_base.py:2559: RuntimeWarning: invalid value encountered in true_divide\n",
      "  c /= stddev[:, None]\n",
      "/opt/conda/lib/python3.8/site-packages/numpy/lib/function_base.py:2560: RuntimeWarning: invalid value encountered in true_divide\n",
      "  c /= stddev[None, :]\n"
     ]
    },
    {
     "name": "stdout",
     "output_type": "stream",
     "text": [
      "Train RMSE: 1.2016\n",
      "Validation/Test RMSE: 1.2077\n",
      "RMSE for k=19: 1.2077\n"
     ]
    },
    {
     "name": "stderr",
     "output_type": "stream",
     "text": [
      "/opt/conda/lib/python3.8/site-packages/numpy/lib/function_base.py:2559: RuntimeWarning: invalid value encountered in true_divide\n",
      "  c /= stddev[:, None]\n",
      "/opt/conda/lib/python3.8/site-packages/numpy/lib/function_base.py:2560: RuntimeWarning: invalid value encountered in true_divide\n",
      "  c /= stddev[None, :]\n"
     ]
    },
    {
     "name": "stdout",
     "output_type": "stream",
     "text": [
      "Train RMSE: 1.1979\n",
      "Validation/Test RMSE: 1.1995\n",
      "RMSE for k=20: 1.1995\n",
      "Best number of clusters: 2 with RMSE: 1.1673\n",
      "\n",
      "Final model with 2 clusters:\n"
     ]
    },
    {
     "name": "stderr",
     "output_type": "stream",
     "text": [
      "/opt/conda/lib/python3.8/site-packages/numpy/lib/function_base.py:2559: RuntimeWarning: invalid value encountered in true_divide\n",
      "  c /= stddev[:, None]\n",
      "/opt/conda/lib/python3.8/site-packages/numpy/lib/function_base.py:2560: RuntimeWarning: invalid value encountered in true_divide\n",
      "  c /= stddev[None, :]\n"
     ]
    },
    {
     "name": "stdout",
     "output_type": "stream",
     "text": [
      "Train RMSE: 1.1741\n",
      "Validation/Test RMSE: 1.1483\n"
     ]
    },
    {
     "data": {
      "text/plain": [
       "1.1483032422038946"
      ]
     },
     "execution_count": 9,
     "metadata": {},
     "output_type": "execute_result"
    }
   ],
   "source": [
    "import pandas as pd\n",
    "import numpy as np\n",
    "from sklearn.model_selection import train_test_split\n",
    "from sklearn.cluster import KMeans\n",
    "from math import sqrt\n",
    "import matplotlib.pyplot as plt\n",
    "\n",
    "# 1. read the data\n",
    "# u.data -> userId, movieId, rating, timestamp\n",
    "# u.item -> movieId, title, releaseDate, videoReleaseDate, imdbURL, genre1..genre19 (binary)\n",
    "\n",
    "# read ratings\n",
    "rating_cols=[\"userId\", \"movieId\", \"rating\", \"timestamp\"]\n",
    "ratings=pd.read_csv(\n",
    "    \"data/u.data\",\n",
    "    sep=\"\\t\",\n",
    "    header=None,\n",
    "    names=rating_cols,\n",
    "    encoding=\"latin-1\"\n",
    ")\n",
    "\n",
    "# read movies\n",
    "item_cols=[\n",
    "    \"movieId\", \"title\", \"releaseDate\", \"videoReleaseDate\", \"imdbURL\",\n",
    "    \"unknown\", \"Action\", \"Adventure\", \"Animation\", \"Children\",\n",
    "    \"Comedy\", \"Crime\", \"Documentary\", \"Drama\", \"Fantasy\",\n",
    "    \"FilmNoir\", \"Horror\", \"Musical\", \"Mystery\", \"Romance\",\n",
    "    \"SciFi\", \"Thriller\", \"War\", \"Western\"\n",
    "]\n",
    "movies=pd.read_csv(\n",
    "    \"data/u.item\",\n",
    "    sep=\"|\",\n",
    "    header=None,\n",
    "    names=item_cols,\n",
    "    encoding=\"latin-1\"\n",
    ")\n",
    "\n",
    "# 2. split data into train/validation/test\n",
    "train_df, temp_df = train_test_split(ratings, test_size=0.3, random_state=42)  # 70% for training\n",
    "val_df, test_df = train_test_split(temp_df, test_size=0.5, random_state=42)  # 15% for validation, 15% for test\n",
    "train_df = train_df.reset_index(drop=True)\n",
    "val_df = val_df.reset_index(drop=True)\n",
    "test_df = test_df.reset_index(drop=True)\n",
    "\n",
    "# 3. build user x movie utility matrix from train\n",
    "all_user_ids = sorted(train_df[\"userId\"].unique())\n",
    "all_movie_ids = sorted(train_df[\"movieId\"].unique())\n",
    "\n",
    "user_to_index = {u: i for i, u in enumerate(all_user_ids)}\n",
    "movie_to_index = {m: i for i, m in enumerate(all_movie_ids)}\n",
    "\n",
    "# init utility matrix\n",
    "utility_matrix = np.zeros((len(all_user_ids), len(all_movie_ids)), dtype=np.float32)\n",
    "\n",
    "# fill known ratings\n",
    "for row in train_df.itertuples():\n",
    "    u_idx = user_to_index[row.userId]\n",
    "    m_idx = movie_to_index[row.movieId]\n",
    "    utility_matrix[u_idx, m_idx] = row.rating\n",
    "\n",
    "# 4. prepare features for k-means (19 genre columns)\n",
    "# subset of movies in training set\n",
    "movies_train = movies[movies[\"movieId\"].isin(all_movie_ids)].copy()\n",
    "\n",
    "# sort by movieId\n",
    "movies_train.sort_values(\"movieId\", inplace=True)\n",
    "movies_train.reset_index(drop=True, inplace=True)\n",
    "\n",
    "# genre columns\n",
    "genre_cols = [\n",
    "    \"unknown\", \"Action\", \"Adventure\", \"Animation\", \"Children\",\n",
    "    \"Comedy\", \"Crime\", \"Documentary\", \"Drama\", \"Fantasy\",\n",
    "    \"FilmNoir\", \"Horror\", \"Musical\", \"Mystery\", \"Romance\",\n",
    "    \"SciFi\", \"Thriller\", \"War\", \"Western\"\n",
    "]\n",
    "genre_features = movies_train[genre_cols].values  # shape: (#movies_in_train, 19)\n",
    "\n",
    "# 5. choose number of clusters via wcss (optional \"elbow\")\n",
    "wcss = []\n",
    "K_MAX = 10\n",
    "for k in range(1, K_MAX + 1):\n",
    "    km_temp = KMeans(n_clusters=k, init='k-means++', random_state=42)\n",
    "    km_temp.fit(genre_features)\n",
    "    wcss.append(km_temp.inertia_)\n",
    "\n",
    "plt.figure()\n",
    "plt.plot(range(1, K_MAX + 1), wcss, marker='o')\n",
    "plt.title('K-Means Elbow on Movie Genres')\n",
    "plt.xlabel('k (#clusters)')\n",
    "plt.ylabel('WCSS')\n",
    "plt.show()\n",
    "\n",
    "# pick a cluster count (use validation set to decide)\n",
    "def choose_best_k():\n",
    "    best_rmse = float('inf')\n",
    "    best_k = 2  # Default initial best k\n",
    "\n",
    "    for k in range(2, 21):  # Try cluster counts from 2 to 20\n",
    "        rmse = train_and_calculate(k, val_df)\n",
    "        print(f\"RMSE for k={k}: {rmse:.4f}\")\n",
    "\n",
    "        if rmse < best_rmse:\n",
    "            best_rmse = rmse\n",
    "            best_k = k\n",
    "\n",
    "    print(f\"Best number of clusters: {best_k} with RMSE: {best_rmse:.4f}\")\n",
    "    return best_k\n",
    "\n",
    "# 6. train and calculate RMSE (based on validation data)\n",
    "def train_and_calculate(best_k, df_to_use):\n",
    "    # cluster the movies using k-means\n",
    "    kmeans = KMeans(n_clusters=best_k, init='k-means++', random_state=42)\n",
    "    cluster_labels = kmeans.fit_predict(genre_features)\n",
    "\n",
    "    # map movieId -> cluster\n",
    "    movie_cluster_map = pd.DataFrame({\n",
    "        \"movieId\": movies_train[\"movieId\"],\n",
    "        \"cluster\": cluster_labels\n",
    "    })\n",
    "\n",
    "    # build user x cluster matrix = avg rating per user per cluster\n",
    "    num_users = len(all_user_ids)\n",
    "    user_cluster_matrix = np.zeros((num_users, best_k), dtype=np.float32)\n",
    "    cluster_counts = np.zeros((num_users, best_k), dtype=np.float32)\n",
    "\n",
    "    # accumulate sums of ratings\n",
    "    for row in df_to_use.itertuples():\n",
    "        u_id = row.userId\n",
    "        m_id = row.movieId\n",
    "        rating = row.rating\n",
    "\n",
    "        # skip if not in training mapping\n",
    "        if m_id not in movie_to_index:\n",
    "            continue\n",
    "\n",
    "        u_idx = user_to_index[u_id]\n",
    "\n",
    "        # find movie's cluster\n",
    "        cluster_id_arr = movie_cluster_map.loc[movie_cluster_map[\"movieId\"] == m_id, \"cluster\"].values\n",
    "        if len(cluster_id_arr) == 0:\n",
    "            continue\n",
    "        cluster_id = cluster_id_arr[0]\n",
    "\n",
    "        user_cluster_matrix[u_idx, cluster_id] += rating\n",
    "        cluster_counts[u_idx, cluster_id] += 1\n",
    "\n",
    "    # convert sums to averages\n",
    "    for u_idx in range(num_users):\n",
    "        for c_idx in range(best_k):\n",
    "            if cluster_counts[u_idx, c_idx] > 0:\n",
    "                user_cluster_matrix[u_idx, c_idx] /= cluster_counts[u_idx, c_idx]\n",
    "\n",
    "    # subtract user's mean rating if they rated > 1 cluster\n",
    "    user_cluster_matrix_normalized = np.copy(user_cluster_matrix)\n",
    "    for u_idx in range(num_users):\n",
    "        rated_cluster_count = np.sum(user_cluster_matrix[u_idx] > 0)\n",
    "        if rated_cluster_count > 1:\n",
    "            user_mean = np.nanmean(user_cluster_matrix[u_idx])\n",
    "            for c_idx in range(best_k):\n",
    "                if not np.isnan(user_cluster_matrix[u_idx, c_idx]):\n",
    "                    user_cluster_matrix_normalized[u_idx, c_idx] -= user_mean\n",
    "\n",
    "    # user-user similarity via pearson correlation on user_cluster_matrix\n",
    "    corr = np.corrcoef(user_cluster_matrix)\n",
    "    corr = np.nan_to_num(corr)  # replace NaNs with 0\n",
    "\n",
    "    # prediction (knn)\n",
    "    def predict_rating(user_id, movie_id, topN=5, default_rating=3.0):\n",
    "        # predict rating for (user, movie)\n",
    "        if user_id not in user_to_index or movie_id not in movie_to_index:\n",
    "            return default_rating\n",
    "\n",
    "        u_idx = user_to_index[user_id]\n",
    "\n",
    "        # find cluster for movie\n",
    "        cluster_id_arr = movie_cluster_map.loc[movie_cluster_map[\"movieId\"] == movie_id, \"cluster\"].values\n",
    "        if len(cluster_id_arr) == 0:\n",
    "            return default_rating\n",
    "        c_label = cluster_id_arr[0]\n",
    "\n",
    "        # get correlation with other users\n",
    "        user_sims = corr[u_idx, :]\n",
    "        # sort by similarity\n",
    "        neighbors_sorted = np.argsort(-user_sims)\n",
    "\n",
    "        sim_sum = 0.0\n",
    "        weighted_sum = 0.0\n",
    "        found_neighbors = 0\n",
    "\n",
    "        for nbr_idx in neighbors_sorted:\n",
    "            if nbr_idx == u_idx:\n",
    "                continue\n",
    "\n",
    "            # neighbor's rating for cluster\n",
    "            nbr_rating = user_cluster_matrix[nbr_idx, c_label]\n",
    "\n",
    "            if nbr_rating > 0:\n",
    "                sim = user_sims[nbr_idx]\n",
    "                weighted_sum += sim * nbr_rating\n",
    "                sim_sum += abs(sim)\n",
    "                found_neighbors += 1\n",
    "\n",
    "                if found_neighbors >= topN:\n",
    "                    break\n",
    "\n",
    "        if sim_sum == 0:\n",
    "            return default_rating\n",
    "        return weighted_sum / sim_sum\n",
    "\n",
    "    # evaluate on test set (rmse)\n",
    "    pred_ratings = []\n",
    "    true_ratings = []\n",
    "\n",
    "    for row in test_df.itertuples():\n",
    "        user_id = row.userId\n",
    "        movie_id = row.movieId\n",
    "        actual = row.rating\n",
    "\n",
    "        pred = predict_rating(user_id, movie_id, topN=5)\n",
    "        pred_ratings.append(pred)\n",
    "        true_ratings.append(actual)\n",
    "\n",
    "    pred_ratings = np.array(pred_ratings)\n",
    "    true_ratings = np.array(true_ratings)\n",
    "\n",
    "    mse = np.mean((pred_ratings - true_ratings) ** 2)\n",
    "    rmse = sqrt(mse)\n",
    "    train_preds = []\n",
    "    train_truths = []\n",
    "\n",
    "    for row in train_df.itertuples():\n",
    "        user_id = row.userId\n",
    "        movie_id = row.movieId\n",
    "        actual = row.rating\n",
    "\n",
    "        pred = predict_rating(user_id, movie_id, topN=5)\n",
    "        train_preds.append(pred)\n",
    "        train_truths.append(actual)\n",
    "\n",
    "    train_preds = np.array(train_preds)\n",
    "    train_truths = np.array(train_truths)\n",
    "    train_rmse = sqrt(np.mean((train_preds - train_truths) ** 2))\n",
    "\n",
    "    print(f\"Train RMSE: {train_rmse:.4f}\")\n",
    "    print(f\"Validation/Test RMSE: {rmse:.4f}\")\n",
    "    return rmse\n",
    "\n",
    "# 7. choose best k based on validation set\n",
    "best_k = choose_best_k()\n",
    "\n",
    "# 8. final model evaluation on test set with best k\n",
    "print(f\"\\nFinal model with {best_k} clusters:\")\n",
    "train_and_calculate(best_k, test_df)"
   ]
  },
  {
   "cell_type": "markdown",
   "metadata": {},
   "source": [
    "The results indicate that k=2 yields the best performance on the validation set, with an RMSE of 1.1673. After finalizing k=2 based on validation results, we tested that model on the test set, obtaining an RMSE of 1.1483. The slight difference between 1.1673 (validation) and 1.1483 (test) is normal, since they are different splits of the data. Encouragingly, the test RMSE is a bit lower, suggesting the model generalizes well. Overall, the process of using a separate validation set to select the cluster count, then reporting the test set score, confirms the model is less likely to overfit and that the reported RMSE of around 1.15 is a realistic measure of its performance."
   ]
  },
  {
   "cell_type": "code",
   "execution_count": null,
   "metadata": {},
   "outputs": [],
   "source": []
  }
 ],
 "metadata": {
  "kernelspec": {
   "display_name": "Python 3",
   "language": "python",
   "name": "python3"
  },
  "language_info": {
   "codemirror_mode": {
    "name": "ipython",
    "version": 3
   },
   "file_extension": ".py",
   "mimetype": "text/x-python",
   "name": "python",
   "nbconvert_exporter": "python",
   "pygments_lexer": "ipython3",
   "version": "3.8.5"
  }
 },
 "nbformat": 4,
 "nbformat_minor": 4
}
